{
 "cells": [
  {
   "cell_type": "code",
   "execution_count": 1,
   "metadata": {
    "collapsed": true
   },
   "outputs": [],
   "source": [
    "import pandas as pd\n",
    "\n",
    "df1 = pd.read_csv('./data/item_properties_part1.csv')\n",
    "df2 = pd.read_csv('./data/item_properties_part2.csv')"
   ]
  },
  {
   "cell_type": "code",
   "execution_count": 2,
   "outputs": [
    {
     "data": {
      "text/plain": "       timestamp  itemid    property                            value\n0  1435460400000  460429  categoryid                             1338\n1  1441508400000  206783         888          1116713 960601 n277.200\n2  1439089200000  395014         400  n552.000 639502 n720.000 424566\n3  1431226800000   59481         790                       n15360.000\n4  1431831600000  156781         917                           828513",
      "text/html": "<div>\n<style scoped>\n    .dataframe tbody tr th:only-of-type {\n        vertical-align: middle;\n    }\n\n    .dataframe tbody tr th {\n        vertical-align: top;\n    }\n\n    .dataframe thead th {\n        text-align: right;\n    }\n</style>\n<table border=\"1\" class=\"dataframe\">\n  <thead>\n    <tr style=\"text-align: right;\">\n      <th></th>\n      <th>timestamp</th>\n      <th>itemid</th>\n      <th>property</th>\n      <th>value</th>\n    </tr>\n  </thead>\n  <tbody>\n    <tr>\n      <th>0</th>\n      <td>1435460400000</td>\n      <td>460429</td>\n      <td>categoryid</td>\n      <td>1338</td>\n    </tr>\n    <tr>\n      <th>1</th>\n      <td>1441508400000</td>\n      <td>206783</td>\n      <td>888</td>\n      <td>1116713 960601 n277.200</td>\n    </tr>\n    <tr>\n      <th>2</th>\n      <td>1439089200000</td>\n      <td>395014</td>\n      <td>400</td>\n      <td>n552.000 639502 n720.000 424566</td>\n    </tr>\n    <tr>\n      <th>3</th>\n      <td>1431226800000</td>\n      <td>59481</td>\n      <td>790</td>\n      <td>n15360.000</td>\n    </tr>\n    <tr>\n      <th>4</th>\n      <td>1431831600000</td>\n      <td>156781</td>\n      <td>917</td>\n      <td>828513</td>\n    </tr>\n  </tbody>\n</table>\n</div>"
     },
     "execution_count": 2,
     "metadata": {},
     "output_type": "execute_result"
    }
   ],
   "source": [
    "df = pd.concat([df1, df2])\n",
    "\n",
    "# Print the concatenated dataframe\n",
    "df.head()"
   ],
   "metadata": {
    "collapsed": false
   }
  },
  {
   "cell_type": "code",
   "execution_count": 5,
   "outputs": [],
   "source": [
    "category_item_df=df[df['property']=='categoryid'][['itemid','value']]\n",
    "category_item_df.head()\n",
    "category_item_df.rename(columns={'value':'categoryid'},inplace=True)\n",
    "category_item_df.to_csv(\"./data/category_item.csv\",index=False)"
   ],
   "metadata": {
    "collapsed": false
   }
  },
  {
   "cell_type": "code",
   "execution_count": null,
   "outputs": [],
   "source": [],
   "metadata": {
    "collapsed": false
   }
  }
 ],
 "metadata": {
  "kernelspec": {
   "display_name": "Python 3",
   "language": "python",
   "name": "python3"
  },
  "language_info": {
   "codemirror_mode": {
    "name": "ipython",
    "version": 2
   },
   "file_extension": ".py",
   "mimetype": "text/x-python",
   "name": "python",
   "nbconvert_exporter": "python",
   "pygments_lexer": "ipython2",
   "version": "2.7.6"
  }
 },
 "nbformat": 4,
 "nbformat_minor": 0
}
