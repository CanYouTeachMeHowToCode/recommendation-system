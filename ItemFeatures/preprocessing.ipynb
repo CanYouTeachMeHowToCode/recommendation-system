{
 "cells": [
  {
   "cell_type": "code",
   "execution_count": 3,
   "metadata": {
    "collapsed": true
   },
   "outputs": [
    {
     "data": {
      "text/plain": "itemid\n0     209\n1    1114\n2    1305\n3    1171\n4    1038\nName: categoryid, dtype: int64"
     },
     "execution_count": 3,
     "metadata": {},
     "output_type": "execute_result"
    }
   ],
   "source": [
    "import pandas as pd\n",
    "\n",
    "df1 = pd.read_csv('./data/category_item.csv')\n",
    "# df1.drop_duplicates(subset=['categoryid', 'itemid'], inplace=True)\n",
    "result = df1.groupby('itemid')['categoryid'].first()\n",
    "result.to_csv('./data/category_item.csv')\n",
    "\n",
    "result.head()\n"
   ]
  },
  {
   "cell_type": "code",
   "execution_count": 30,
   "outputs": [
    {
     "name": "stderr",
     "output_type": "stream",
     "text": [
      "/var/folders/qf/p1jx3hqj5vv1t6n49gjv_wjw0000gn/T/ipykernel_73978/3753201652.py:8: SettingWithCopyWarning: \n",
      "A value is trying to be set on a copy of a slice from a DataFrame\n",
      "\n",
      "See the caveats in the documentation: https://pandas.pydata.org/pandas-docs/stable/user_guide/indexing.html#returning-a-view-versus-a-copy\n",
      "  result.drop_duplicates(subset=['item_id', 'category_id'], inplace=True)\n"
     ]
    },
    {
     "data": {
      "text/plain": "   item_id  category_id\n0    43511         1179\n1    54408          209\n2    10006         1694\n3    49432         1280\n5    39563         1196",
      "text/html": "<div>\n<style scoped>\n    .dataframe tbody tr th:only-of-type {\n        vertical-align: middle;\n    }\n\n    .dataframe tbody tr th {\n        vertical-align: top;\n    }\n\n    .dataframe thead th {\n        text-align: right;\n    }\n</style>\n<table border=\"1\" class=\"dataframe\">\n  <thead>\n    <tr style=\"text-align: right;\">\n      <th></th>\n      <th>item_id</th>\n      <th>category_id</th>\n    </tr>\n  </thead>\n  <tbody>\n    <tr>\n      <th>0</th>\n      <td>43511</td>\n      <td>1179</td>\n    </tr>\n    <tr>\n      <th>1</th>\n      <td>54408</td>\n      <td>209</td>\n    </tr>\n    <tr>\n      <th>2</th>\n      <td>10006</td>\n      <td>1694</td>\n    </tr>\n    <tr>\n      <th>3</th>\n      <td>49432</td>\n      <td>1280</td>\n    </tr>\n    <tr>\n      <th>5</th>\n      <td>39563</td>\n      <td>1196</td>\n    </tr>\n  </tbody>\n</table>\n</div>"
     },
     "execution_count": 30,
     "metadata": {},
     "output_type": "execute_result"
    }
   ],
   "source": [
    "import os\n",
    "sorted_events = pd.read_pickle(os.path.join('./data', 'sorted_events.df'))\n",
    "category_data = pd.read_csv(os.path.join('./data', 'category_item.csv'))\n",
    "\n",
    "merged_data = pd.merge(sorted_events, category_data, on='item_id', how='left')\n",
    "merged_data['category_id'].fillna(-1, inplace=True)\n",
    "result = merged_data[['item_id', 'category_id']]\n",
    "result.drop_duplicates(subset=['item_id', 'category_id'], inplace=True)\n",
    "\n",
    "result=result[['item_id', 'category_id']].astype({'category_id': int})\n",
    "# result = result.drop(result.columns[0], axis=1)\n",
    "\n",
    "result.to_csv(\"./data/category_item_filter.csv\",index=False)\n",
    "\n",
    "# result = category_data[category_data['item_id'].isin(ids)]\n",
    "result.head()"
   ],
   "metadata": {
    "collapsed": false
   }
  },
  {
   "cell_type": "code",
   "execution_count": null,
   "outputs": [],
   "source": [],
   "metadata": {
    "collapsed": false
   }
  }
 ],
 "metadata": {
  "kernelspec": {
   "display_name": "Python 3",
   "language": "python",
   "name": "python3"
  },
  "language_info": {
   "codemirror_mode": {
    "name": "ipython",
    "version": 2
   },
   "file_extension": ".py",
   "mimetype": "text/x-python",
   "name": "python",
   "nbconvert_exporter": "python",
   "pygments_lexer": "ipython2",
   "version": "2.7.6"
  }
 },
 "nbformat": 4,
 "nbformat_minor": 0
}
